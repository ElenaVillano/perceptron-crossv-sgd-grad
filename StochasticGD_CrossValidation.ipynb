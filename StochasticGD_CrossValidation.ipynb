{
 "cells": [
  {
   "cell_type": "markdown",
   "metadata": {},
   "source": [
    "### Gradiente estocástico descendiente\n",
    "#### Equipo No. 6: Elena Villalobos Nolasco, Carolina Acosta Tovany y Aide Jazmín González Cruz"
   ]
  },
  {
   "cell_type": "markdown",
   "metadata": {},
   "source": [
    "#### 1.- Se importan los paquetes"
   ]
  },
  {
   "cell_type": "code",
   "execution_count": 2,
   "metadata": {},
   "outputs": [],
   "source": [
    "import random\n",
    "import matplotlib.pyplot as plt\n",
    "import csv\n",
    "from math import exp\n",
    "import numpy as np\n",
    "import pandas as pd"
   ]
  },
  {
   "cell_type": "markdown",
   "metadata": {},
   "source": [
    "#### 2.- Cargamos los datos"
   ]
  },
  {
   "cell_type": "code",
   "execution_count": 3,
   "metadata": {},
   "outputs": [],
   "source": [
    "def load_data(path, header):\n",
    "    marks_df = pd.read_csv(path, header=header)\n",
    "    return marks_df\n",
    "\n",
    "data = load_data(\"iris_num.txt\",None)\n",
    "data = np.array(data)"
   ]
  },
  {
   "cell_type": "markdown",
   "metadata": {},
   "source": [
    "#### 3.- Definimos nuestra función costo/objetivo (LOSS Function)"
   ]
  },
  {
   "cell_type": "markdown",
   "metadata": {},
   "source": [
    "$J(\\theta) = \\frac{1}{n} \\sum_{i=1}^{n} L_h (y^{(i)}\\theta * x^{(i)}) + \\frac{\\lambda}{2} || \\theta || ^2$\n",
    "\n",
    "$ L_h (v) = \\begin{bmatrix}\n",
    "1 -v \\:\\:\\:\\:\\:  v < 1\\\\\n",
    "0 \\:\\:\\:\\:\\: otro\\:caso\n",
    "\\end{bmatrix}$"
   ]
  },
  {
   "cell_type": "code",
   "execution_count": 4,
   "metadata": {},
   "outputs": [],
   "source": [
    "def costo(data, n, theta, lamb):\n",
    "    \n",
    "    \n",
    "    \n",
    "    def Lh(theta,x,y):  # De acuerdo a la clase:\n",
    "        v = np.dot(theta,x.T)*y\n",
    "        if (v)<1:\n",
    "            return 1 - v\n",
    "        else:\n",
    "            return 0\n",
    "    \n",
    "    costo = 0\n",
    "    \n",
    "    for i in data:\n",
    "        x = i[:len(i)-1]\n",
    "        y = i[4]\n",
    "        \n",
    "        costo += Lh(theta,x,y)+((lamb/2)*np.linalg.norm(theta)**2)\n",
    "    \n",
    "    costo *= 1/n\n",
    "    \n",
    "    return costo"
   ]
  },
  {
   "cell_type": "markdown",
   "metadata": {},
   "source": [
    "#### 4.- Definimos la función SGD."
   ]
  },
  {
   "cell_type": "markdown",
   "metadata": {},
   "source": [
    "Para $i \\in {1,...,n}$ aleatoria:\n",
    "\n",
    "$\\theta \\leftarrow \\theta-\\eta_t \\Delta_{\\theta} \\left[ Loss_h (y^{(i)} \\theta  \\dot x^{(i)} + \\frac{\\lambda}{2} ||\\theta|| \\right] $\n",
    "\n",
    "\n",
    "Y de acuerdo a la clase:\n",
    "\n",
    "\n",
    "$ L_h^{'} (v) = \\begin{bmatrix}\n",
    "-1 \\:\\:\\:\\:\\:  v < 1\\\\\n",
    "0 \\:\\:\\:\\:\\: otro\\:caso\n",
    "\\end{bmatrix}$\n",
    "\n",
    "\n",
    "$\\theta^t \\leftarrow \\theta^{t+1}-\\eta_t L_h^{'} (v) + \\lambda \\theta$"
   ]
  },
  {
   "cell_type": "code",
   "execution_count": 37,
   "metadata": {},
   "outputs": [],
   "source": [
    "def sgd(train_data,theta,lamb,iteraciones):\n",
    "    \n",
    "    x = np.array(train_data[:,0:4])\n",
    "    y = np.array(train_data[4])\n",
    "    y_len = len(y) # \n",
    "    \n",
    "    def f_perdida(theta,x,y):  # De acuerdo a la clase:\n",
    "        if (np.dot(theta,x.T)*y)<1:\n",
    "            return -1\n",
    "        else:\n",
    "            return 0\n",
    "    \n",
    "    for j in range(iteraciones):\n",
    "        random.seed(1993)\n",
    "        rand_int = np.random.randint(0,y_len) # elige el dato al azar entre cero y y_len\n",
    "        x_i=x[rand_int,:].reshape(1,x.shape[1])\n",
    "        y_i=y[rand_int].reshape(1,1)\n",
    "        #theta=theta-(1/(j+1))*y_i@x_i*(f_perdida(theta,x_i,y_i)+(lamb)*theta)\n",
    "        theta=theta-(1/(j+1))*y_i@x_i*(f_perdida(theta,x_i,y_i)+(lamb/2)*np.linalg.norm(theta)**2)\n",
    "        \n",
    "    return theta"
   ]
  },
  {
   "cell_type": "markdown",
   "metadata": {},
   "source": [
    "#### 5.- Definimos la función CrossValidation"
   ]
  },
  {
   "cell_type": "code",
   "execution_count": 38,
   "metadata": {},
   "outputs": [],
   "source": [
    "random.seed(1993)\n",
    "\n",
    "def CrossValidation(data,K):\n",
    "    lamda_list = [1,0.01,0.001]\n",
    "    #eta = 0.01 # LearningRate\n",
    "    iteraciones = 1000\n",
    "    #df_lamda = pd.DataFrame(0.0, index=range(1),columns=(\"100\",\"10\",\"1\",\"0.1\"))\n",
    "    df_lamda = pd.DataFrame(0.0, index=range(1),columns=(\"1\",\"0.01\",\"0.001\"))\n",
    "    \n",
    "    # Dividimos los datos en chunk de igual tamaño\n",
    "    chunks = np.array_split(data, K)\n",
    "    for lamda_ in lamda_list:\n",
    "        error = 0.0\n",
    "        for i in range(1,int(K)):\n",
    "            \n",
    "            # Inicializamos las tetas\n",
    "            theta = np.array([0.0, 0.0, 0.0, 0.0])\n",
    "            \n",
    "            # El chunk i será nuestro bloque de datos de prueba\n",
    "            test_data = chunks[i]\n",
    "            \n",
    "            # Entrenamos con todos los otros datos menos con el chunk[i]\n",
    "            train_data = chunks.copy()\n",
    "            train_data.pop(i) # Elimina el chunk i\n",
    "            train_data = np.concatenate(train_data)\n",
    "        \n",
    "            \n",
    "            theta_est = sgd(train_data, theta, lamda_, iteraciones)\n",
    "            \n",
    "            \n",
    "            #  Obtenemos el error con la función objetivo\n",
    "            error += costo(test_data,len(test_data), theta_est[0],lamda_)\n",
    "        error /= K\n",
    "        \n",
    "        df_lamda[str(lamda_)][0] = error\n",
    "        \n",
    "    print(df_lamda)\n",
    "    return (df_lamda.idxmin(axis=1)[0])\n"
   ]
  },
  {
   "cell_type": "markdown",
   "metadata": {},
   "source": [
    "#### 6.- Hacemos la validación cruzada sobre nuestra data"
   ]
  },
  {
   "cell_type": "code",
   "execution_count": 35,
   "metadata": {},
   "outputs": [
    {
     "name": "stderr",
     "output_type": "stream",
     "text": [
      "/home/carotova/.pyenv/versions/3.7.4/envs/machine-learning/lib/python3.7/site-packages/ipykernel_launcher.py:6: RuntimeWarning: invalid value encountered in double_scalars\n",
      "  \n"
     ]
    },
    {
     "name": "stdout",
     "output_type": "stream",
     "text": [
      "     1      0.01     0.001\n",
      "0  inf  0.674257  0.686069\n"
     ]
    },
    {
     "data": {
      "text/plain": [
       "0.01"
      ]
     },
     "execution_count": 35,
     "metadata": {},
     "output_type": "execute_result"
    }
   ],
   "source": [
    "df_lamda = CrossValidation(data,5.0)\n",
    "float(df_lamda)"
   ]
  },
  {
   "cell_type": "markdown",
   "metadata": {},
   "source": [
    "#### Conclusión:\n",
    "\n",
    "De acuerdo al CrossValidation , debemos utilizar lambda 0.01 para obtener mejor resultados, porque tendrá menor error segun la funcion de costo. \n",
    "\n",
    "Estamos haciendo 1000 iteraciones.\n",
    "\n",
    "#### 7.- Volvemos a entrenar"
   ]
  },
  {
   "cell_type": "code",
   "execution_count": 40,
   "metadata": {},
   "outputs": [
    {
     "name": "stdout",
     "output_type": "stream",
     "text": [
      "Teta :  [-0.08831484 -0.83909116  3.31222094  1.0967151 ]\n"
     ]
    }
   ],
   "source": [
    "#Se revuelven los datos\n",
    "random.seed(1992)\n",
    "random.shuffle(data)\n",
    "\n",
    "#Datos de entrenamiento\n",
    "datos_entrenamiento = data[0:120]\n",
    "\n",
    "#Datos de verificación\n",
    "data_validacion = data[121:150]\n",
    "\n",
    "\n",
    "theta = np.array([0.0, 0.0, 0.0, 0.0])\n",
    "iteraciones = 1000\n",
    "lam = 0.01\n",
    "\n",
    "theta_est = sgd(data_validacion, theta, lam, iteraciones)\n",
    "print(\"Teta : \", theta_est[0])"
   ]
  }
 ],
 "metadata": {
  "kernelspec": {
   "display_name": "Python 3",
   "language": "python",
   "name": "python3"
  },
  "language_info": {
   "codemirror_mode": {
    "name": "ipython",
    "version": 3
   },
   "file_extension": ".py",
   "mimetype": "text/x-python",
   "name": "python",
   "nbconvert_exporter": "python",
   "pygments_lexer": "ipython3",
   "version": "3.7.4"
  }
 },
 "nbformat": 4,
 "nbformat_minor": 4
}
