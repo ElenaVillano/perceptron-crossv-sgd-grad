{
 "cells": [
  {
   "cell_type": "markdown",
   "metadata": {},
   "source": [
    "### Perceptrón\n",
    "#### Equipo No. 6: Elena Villalobos Nolasco, Carolina Acosta Tovany y Aide Jazmín González Cruz"
   ]
  },
  {
   "cell_type": "markdown",
   "metadata": {},
   "source": [
    "#### 1.- Se importan los paquetes"
   ]
  },
  {
   "cell_type": "code",
   "execution_count": 500,
   "metadata": {},
   "outputs": [],
   "source": [
    "import random\n",
    "import matplotlib.pyplot as plt\n",
    "import csv\n",
    "import numpy as np\n",
    "from colorama import Fore, Back, Style"
   ]
  },
  {
   "cell_type": "markdown",
   "metadata": {},
   "source": [
    "#### 2.- Se crea la clase perceptron con las funciones a utilizar"
   ]
  },
  {
   "cell_type": "code",
   "execution_count": 501,
   "metadata": {},
   "outputs": [],
   "source": [
    "class Perceptron:\n",
    "    def __init__(self, n_pesos, clase):\n",
    "        self.n_pesos = n_pesos\n",
    "        #Se inician pesos en 0\n",
    "        self.pesos = np.array([0.0, 0.0, 0.0, 0.0])\n",
    "        #Se inician teta0 en 0\n",
    "        self.teta_0 = np.array([0.0])\n",
    "        #Se determina el valor de 1 y -1 para las clase\n",
    "        self.val_clase = { clase[0]:1, clase[1]:-1 }\n",
    "\n",
    "    def predice(self, datos):\n",
    "        #Se obtienen los atributos (en este caso son 4: ancho y alto del sepalo, así como del petalo)\n",
    "        atributos_x = datos[:self.n_pesos-1]\n",
    "        #Valida esta parte ØTx(i)+Ø0 = y(i)\n",
    "        suma_pesos = sum([i*j for i,j in zip(self.pesos[0:self.n_pesos],atributos_x)] + self.teta_0)       \n",
    "        return 1 if suma_pesos >= 0 else -1\n",
    "\n",
    "    def ajusta_pesos(self, clase_real, data):\n",
    "        self.teta_0 = self.teta_0 + clase_real\n",
    "        for i in range(0,4):\n",
    "            self.pesos[i] = self.pesos[i] + clase_real * data[i]\n",
    "\n",
    "    def entrenamiento(self, n, T):\n",
    "        # Se crea arreglo para guardar los pesos que se van calculando\n",
    "        grad_pesos = [self.pesos]\n",
    "        tets = [self.teta_0]\n",
    "        for t in range(T):\n",
    "            for i in n:\n",
    "                clase_real = self.val_clase[i[len(i)-1]]#Se guarda la clase real de esa observación yi    \n",
    "                #Se obtienen los atributos (en este caso son 4: ancho y alto del sepalo, así como del petalo)\n",
    "                atributos_x = i[:self.n_pesos-1]\n",
    "                suma_pesos = self.val_clase[i[len(i)-1]] * ((np.dot(np.array(self.pesos),np.array(atributos_x).transpose())) + self.teta_0)\n",
    "                #print(suma_pesos)\n",
    "                if suma_pesos <= 0:\n",
    "                    self.ajusta_pesos(clase_real,i)\n",
    "                    grad_pesos = np.concatenate((grad_pesos,[self.pesos]), axis = 0)\n",
    "                    tets = np.concatenate((tets,[self.teta_0]), axis = 0)\n",
    "                    \n",
    "        valores = np.c_[ grad_pesos, tets ]\n",
    "        return valores\n",
    "\n",
    "    def verify(self, data):\n",
    "        count = 0\n",
    "        for datum in data:\n",
    "            clase_real = self.val_clase[datum[len(datum)-1]]\n",
    "            prediccion = self.predice(datum)\n",
    "            if clase_real != prediccion:\n",
    "                count = count + 1\n",
    "        return (1-count/len(data))*100"
   ]
  },
  {
   "cell_type": "markdown",
   "metadata": {},
   "source": [
    "#### 3.- Se crea la función principal para cargar datos, llamar y ejecutar el perceptron"
   ]
  },
  {
   "cell_type": "code",
   "execution_count": 521,
   "metadata": {},
   "outputs": [],
   "source": [
    "def read_csv(file):\n",
    "    with open(file,'r') as f:\n",
    "        reader = csv.reader(f)\n",
    "        info = []\n",
    "        for row in reader:\n",
    "             info.append(row)\n",
    "\n",
    "        for datum in info:\n",
    "            for i in range(len(info[0])-1):\n",
    "                datum[i] = float(datum[i])\n",
    "    return info\n",
    "\n",
    "\n",
    "def main():\n",
    "    #Cargando datos\n",
    "    data = read_csv('iris.csv')\n",
    "    data_iris_setosa = data[0:50]\n",
    "    data_iris_no_setosa = data[50:150]\n",
    "\n",
    "    data_with_two_species = data_iris_setosa + data_iris_no_setosa\n",
    "    clases = ['setosa', 'no_setosa']\n",
    "    \n",
    "    #Reordenando datos aleatoriamente\n",
    "    random.shuffle(data_with_two_species)\n",
    "\n",
    "    #Datos de entrenamiento\n",
    "    datos_entrenamiento = data_with_two_species[0:80]\n",
    "    \n",
    "    #Datos de verificación\n",
    "    data_validacion = data_with_two_species[:-20]\n",
    "    \n",
    "    #Perceptron\n",
    "    perceptron = Perceptron(len(data[0]), clases)\n",
    "\n",
    "    #Entrenando\n",
    "    x = perceptron.entrenamiento(datos_entrenamiento, T=1000)\n",
    "    print('\\n Pesos Finales: {}'.format(perceptron.pesos))\n",
    "   \n",
    "    #print(x)\n",
    "    \n",
    "    plt.plot(x[:,0],'k')#peso1\n",
    "    plt.plot(x[:,1],'r')#peso2\n",
    "    plt.plot(x[:,2],'b')#peso3\n",
    "    plt.plot(x[:,3],'g')#peso4\n",
    "    plt.plot(x[:,4],'y')#teta_0\n",
    "\n",
    "    plt.show()\n",
    "    \n",
    "    print(Fore.BLACK + 'Peso 1')\n",
    "    print(Fore.RED + 'Peso 2')\n",
    "    print(Fore.BLUE + 'Peso 3')\n",
    "    print(Fore.GREEN + 'Peso 4')\n",
    "    print(Fore.YELLOW + 'Teta 0')\n",
    "    \n",
    "    #Verificación\n",
    "    accuracy = perceptron.verify(data_validacion)\n",
    "    print(Fore.RED + '\\n\\nError: {0:10.2f} % en datos de verificación'.format(100-accuracy)) \n",
    "    print('\\n\\n') "
   ]
  },
  {
   "cell_type": "markdown",
   "metadata": {},
   "source": [
    "### 4. Ejecutando el perceptrón y gráficando pesos"
   ]
  },
  {
   "cell_type": "code",
   "execution_count": 523,
   "metadata": {},
   "outputs": [
    {
     "name": "stdout",
     "output_type": "stream",
     "text": [
      "\n",
      " Pesos Finales: [ 2.1  4.1 -6.6 -3.4]\n"
     ]
    },
    {
     "data": {
      "image/png": "[encoded data removed]",
      "text/plain": [
       "<Figure size 432x288 with 1 Axes>"
      ]
     },
     "metadata": {
      "needs_background": "light"
     },
     "output_type": "display_data"
    },
    {
     "name": "stdout",
     "output_type": "stream",
     "text": [
      "\u001b[30mPeso 1\n",
      "\u001b[31mPeso 2\n",
      "\u001b[34mPeso 3\n",
      "\u001b[32mPeso 4\n",
      "\u001b[33mTeta 0\n",
      "\u001b[31m\n",
      "\n",
      "Error:       0.77 % en datos de verificación\n",
      "\n",
      "\n",
      "\n"
     ]
    }
   ],
   "source": [
    "  main()"
   ]
  },
  {
   "cell_type": "code",
   "execution_count": null,
   "metadata": {},
   "outputs": [],
   "source": []
  }
 ],
 "metadata": {
  "kernelspec": {
   "display_name": "Python 3",
   "language": "python",
   "name": "python3"
  },
  "language_info": {
   "codemirror_mode": {
    "name": "ipython",
    "version": 3
   },
   "file_extension": ".py",
   "mimetype": "text/x-python",
   "name": "python",
   "nbconvert_exporter": "python",
   "pygments_lexer": "ipython3",
   "version": "3.8.2"
  }
 },
 "nbformat": 4,
 "nbformat_minor": 4
}
