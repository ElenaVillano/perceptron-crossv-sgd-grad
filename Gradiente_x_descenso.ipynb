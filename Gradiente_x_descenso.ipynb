{
 "cells": [
  {
   "cell_type": "markdown",
   "metadata": {},
   "source": [
    "### Gradiente por descenso\n",
    "#### Equipo No. 6: Elena Villalobos Nolasco, Carolina Acosta Tovany y Aide Jazmín González Cruz"
   ]
  },
  {
   "cell_type": "markdown",
   "metadata": {},
   "source": [
    "#### 1.- Se importan los paquetes"
   ]
  },
  {
   "cell_type": "code",
   "execution_count": 11,
   "metadata": {},
   "outputs": [],
   "source": [
    "import random\n",
    "import csv\n",
    "import numpy as np\n",
    "import pandas as pd"
   ]
  },
  {
   "cell_type": "code",
   "execution_count": 38,
   "metadata": {},
   "outputs": [],
   "source": [
    "def costo(teta,teta0,data,n,lamda):#Función Objetivo J(Ø,Ø0)\n",
    "    suma = np.array([0.0])\n",
    "    yi = 0.0\n",
    "    modulo = 0.0\n",
    "    modulo = (teta[0]*teta[0]) + (teta[1]*teta[1]) + (teta[2]*teta[2]) + (teta[3]*teta[3])\n",
    "    \n",
    "    for i in data:\n",
    "        if(i[4] == 0.0):\n",
    "            yi = -1.0\n",
    "        else:\n",
    "            yi = 1.0\n",
    "                \n",
    "        x = i[:len(i)-1]       \n",
    "              \n",
    "        ##(yi(ØTxi + Ø0))\n",
    "        v = yi * ((np.dot(np.array(teta).transpose(),np.array(x))) + teta0)\n",
    "        \n",
    "        ##SUMA Lh(yi(ØTxi + Ø0))\n",
    "        if v < 1.0:\n",
    "            Lh = (1.0 - v)\n",
    "        else:\n",
    "            Lh = 0.0\n",
    "            \n",
    "        suma =  suma + (Lh + ((lamda/2)*modulo))\n",
    "        \n",
    "    return ((1/n)*suma)\n",
    "\n",
    "def descenso_x_gradiente(data, eta, Oini, O0ini, lamda, epsilon):\n",
    "        # Se crea arreglo para guardar los pesos que se van calculando               \n",
    "        O = []\n",
    "        O0 = []\n",
    "        O.append(Oini)\n",
    "        O0.append(O0ini)\n",
    "        \n",
    "        Ot = [0.0, 0.0, 0.0, 0.0]\n",
    "        Ot0 = [0.0]\n",
    "        \n",
    "        t = 0\n",
    "        \n",
    "        n = len(data)\n",
    "        \n",
    "        while True:  \n",
    "            t = t + 1\n",
    "            sumaO = np.array([0.0, 0.0, 0.0, 0.0])\n",
    "            sumaO0 = np.array([0.0])\n",
    "            \n",
    "            for i in data:\n",
    "                \n",
    "                if(i[4] == 0.0):\n",
    "                    yi = -1.0\n",
    "                else:\n",
    "                    yi = 1.0              \n",
    "                                    \n",
    "                x = i[:len(i)-1]\n",
    "                \n",
    "                ##Valida esta parte y(i)(Ø(t-1)Tx(i)+Ø0(t-1)) \n",
    "                hip = yi * ((np.dot(np.array(O[t-1]).transpose(),np.array(x))) + O0[t-1])\n",
    "                \n",
    "                val = 0.0\n",
    "                if(hip < 1.0):\n",
    "                    val = -1.0\n",
    "                else:\n",
    "                    val = 0.0\n",
    "                    \n",
    "                hip_O = (val * (yi * np.array(x))) + (lamda * O[t-1])\n",
    "                hip_O0 = val * yi\n",
    "                \n",
    "                sumaO = sumaO + hip_O\n",
    "                sumaO0 = sumaO0 + hip_O0                        \n",
    "            \n",
    "            Ot = O[t-1] - eta * ((1/n)*sumaO)\n",
    "            Ot0 = O0[t-1] - eta * (((1/n)*sumaO0))\n",
    "                                 \n",
    "            O = np.insert(O, t, Ot, axis=0)\n",
    "            O0 = np.insert(O0, t, Ot0, axis=0)\n",
    "            \n",
    "            cost = abs(costo(O[t],O0[t],data,n,lamda) - costo(O[t-1],O0[t-1],data,n,lamda))     \n",
    "            \n",
    "                                   \n",
    "            #Se corre el while hasta alcanzar el epsilon o las iteraciones son mayor a 1000 (para no tender a loop infinito)    \n",
    "            if((cost < epsilon) or (t > 1000)):\n",
    "                break \n",
    "        \n",
    "        print('t: ' + str(t))      \n",
    "        return [O[t], O0[t]]\n",
    "        \n",
    "        \n",
    "def load_data(path, header):\n",
    "    marks_df = pd.read_csv(path, header=header)\n",
    "    return marks_df\n",
    "\n",
    "data = load_data(\"iris_num.txt\",None)\n",
    "data = np.array(data)"
   ]
  },
  {
   "cell_type": "code",
   "execution_count": 21,
   "metadata": {},
   "outputs": [],
   "source": [
    "#Se revuelven los datos\n",
    "np.random.shuffle(data)"
   ]
  },
  {
   "cell_type": "code",
   "execution_count": 22,
   "metadata": {},
   "outputs": [],
   "source": [
    "#Datos de entrenamiento\n",
    "datos_entrenamiento = data[0:120]"
   ]
  },
  {
   "cell_type": "code",
   "execution_count": 39,
   "metadata": {},
   "outputs": [
    {
     "name": "stdout",
     "output_type": "stream",
     "text": [
      "Llamando a gradiente por descenso\n",
      "t: 14\n",
      "tetas: [array([ 0.14261385,  0.44381456, -0.71407742, -0.33230728]), array([0.0875])]\n"
     ]
    }
   ],
   "source": [
    "#Datos de verificación\n",
    "data_validacion = data[121:150]\n",
    "\n",
    "#Definición de parámetros\n",
    "eta = 0.1\n",
    "Oini = np.array([0.0, 0.0, 0.0, 0.0])\n",
    "O0ini = np.array([0.0])\n",
    "lamda = 0.1\n",
    "epsilon = 0.001\n",
    "\n",
    "print(\"Llamando a gradiente por descenso\")\n",
    "tetas = descenso_x_gradiente(datos_entrenamiento, eta, Oini, O0ini, lamda, epsilon)\n",
    "print('tetas: ' + str(tetas))\n",
    "\n",
    "\n"
   ]
  },
  {
   "cell_type": "code",
   "execution_count": 40,
   "metadata": {},
   "outputs": [
    {
     "name": "stdout",
     "output_type": "stream",
     "text": [
      "Llamando a gradiente por descenso\n",
      "t: 11\n",
      "tetas: [array([ 0.20079061,  0.6254157 , -1.0087211 , -0.46898803]), array([0.125])]\n"
     ]
    }
   ],
   "source": [
    "eta = 0.2\n",
    "Oini = np.array([0.0, 0.0, 0.0, 0.0])\n",
    "O0ini = np.array([0.0])\n",
    "lamda = 0.1\n",
    "epsilon = 0.05\n",
    "\n",
    "print(\"Llamando a gradiente por descenso\")\n",
    "tetas = descenso_x_gradiente(datos_entrenamiento, eta, Oini, O0ini, lamda, epsilon)\n",
    "print('tetas: ' + str(tetas))"
   ]
  },
  {
   "cell_type": "code",
   "execution_count": 41,
   "metadata": {},
   "outputs": [
    {
     "name": "stdout",
     "output_type": "stream",
     "text": [
      "Llamando a gradiente por descenso\n",
      "t: 1001\n",
      "tetas: [array([-0.21224752,  0.15220061, -0.71592484, -0.30416985]), array([0.48])]\n"
     ]
    }
   ],
   "source": [
    "eta = 0.2\n",
    "Oini = np.array([0.0, 0.0, 0.0, 0.0])\n",
    "O0ini = np.array([0.0])\n",
    "lamda = 1\n",
    "epsilon = 0.05\n",
    "\n",
    "print(\"Llamando a gradiente por descenso\")\n",
    "tetas = descenso_x_gradiente(datos_entrenamiento, eta, Oini, O0ini, lamda, epsilon)\n",
    "print('tetas: ' + str(tetas))"
   ]
  },
  {
   "cell_type": "code",
   "execution_count": 42,
   "metadata": {},
   "outputs": [
    {
     "name": "stdout",
     "output_type": "stream",
     "text": [
      "Llamando a gradiente por descenso\n",
      "t: 1001\n",
      "tetas: [array([-581.321     , -306.48433333, -370.04333333, -118.7875    ]), array([-33.4])]\n"
     ]
    }
   ],
   "source": [
    "eta = 0.2#Si ES ALTA GENERA NUMEROS GRANDES CON LAMBA 10 Y GENERA ERROR\n",
    "Oini = np.array([0.0, 0.0, 0.0, 0.0])\n",
    "O0ini = np.array([0.0])\n",
    "lamda = 10\n",
    "epsilon = 0.05\n",
    "\n",
    "print(\"Llamando a gradiente por descenso\")\n",
    "tetas = descenso_x_gradiente(datos_entrenamiento, eta, Oini, O0ini, lamda, epsilon)\n",
    "print('tetas: ' + str(tetas))"
   ]
  },
  {
   "cell_type": "code",
   "execution_count": 43,
   "metadata": {},
   "outputs": [
    {
     "name": "stdout",
     "output_type": "stream",
     "text": [
      "Llamando a gradiente por descenso\n",
      "t: 2\n",
      "tetas: [array([-0.02438333, -0.00755   , -0.02716667, -0.01020833]), array([-0.00666667])]\n"
     ]
    }
   ],
   "source": [
    "eta = 0.01#Si ES ALTA GENERA NUMEROS GRANDES CON LAMBA 10 Y GENERA ERROR\n",
    "Oini = np.array([0.0, 0.0, 0.0, 0.0])\n",
    "O0ini = np.array([0.0])\n",
    "lamda = 100\n",
    "epsilon = 0.05\n",
    "\n",
    "print(\"Llamando a gradiente por descenso\")\n",
    "tetas = descenso_x_gradiente(datos_entrenamiento, eta, Oini, O0ini, lamda, epsilon)\n",
    "print('tetas: ' + str(tetas))"
   ]
  },
  {
   "cell_type": "code",
   "execution_count": null,
   "metadata": {},
   "outputs": [],
   "source": []
  }
 ],
 "metadata": {
  "kernelspec": {
   "display_name": "Python 3",
   "language": "python",
   "name": "python3"
  },
  "language_info": {
   "codemirror_mode": {
    "name": "ipython",
    "version": 3
   },
   "file_extension": ".py",
   "mimetype": "text/x-python",
   "name": "python",
   "nbconvert_exporter": "python",
   "pygments_lexer": "ipython3",
   "version": "3.8.2"
  }
 },
 "nbformat": 4,
 "nbformat_minor": 4
}
