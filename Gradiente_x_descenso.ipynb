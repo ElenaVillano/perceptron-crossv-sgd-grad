{
 "cells": [
  {
   "cell_type": "markdown",
   "metadata": {},
   "source": [
    "### Gradiente por descenso\n",
    "#### Equipo No. 6: Elena Villalobos Nolasco, Carolina Acosta Tovany y Aide Jazmín González Cruz"
   ]
  },
  {
   "cell_type": "code",
   "execution_count": null,
   "metadata": {},
   "outputs": [],
   "source": [
    "#### 1.- Se importan los paquetes"
   ]
  },
  {
   "cell_type": "code",
   "execution_count": 3,
   "metadata": {},
   "outputs": [],
   "source": [
    "import csv\n",
    "import numpy as np"
   ]
  },
  {
   "cell_type": "code",
   "execution_count": 4,
   "metadata": {},
   "outputs": [],
   "source": [
    "class Descenso_Grad:\n",
    "    def __init__(self, n_pesos, clase):\n",
    "        self.n_pesos = n_pesos\n",
    "        #Se inician pesos en 0\n",
    "        self.teta0 = np.array([0.0, 0.0, 0.0, 0.0])\n",
    "        #Se inician teta0 en 0\n",
    "        self.teta_0 = np.array([0.0])\n",
    "        #Se inician t en 0\n",
    "        self.t = np.array([0.0])\n",
    "        #Se determina el valor de 1 y -1 para las clase\n",
    "        self.val_clase = { clase[0]:1, clase[1]:-1 }\n",
    "\n",
    "    def predice(self, datos):\n",
    "        #Se obtienen los atributos (en este caso son 4: ancho y alto del sepalo, así como del petalo)\n",
    "        atributos_x = datos[:self.n_pesos-1]\n",
    "        #Valida esta parte ØTx(i)+Ø0 = y(i)\n",
    "        suma_pesos = sum([i*j for i,j in zip(self.pesos[0:self.n_pesos],atributos_x)] + self.teta_0)       \n",
    "        return 1 if suma_pesos >= 0 else -1\n",
    "\n",
    "    def ajusta_pesos(self, clase_real, data):\n",
    "        self.teta_0 = self.teta_0 + clase_real\n",
    "        for i in range(0,4):\n",
    "            self.pesos[i] = self.pesos[i] + clase_real * data[i]\n",
    "\n",
    "    def entrenamiento(self, eta, J):\n",
    "        # Se crea arreglo para guardar los pesos que se van calculando\n",
    "        grad_pesos = [self.pesos]\n",
    "        tets = [self.teta_0]\n",
    "        \n",
    "        while True:  \n",
    "            t = t + 1\n",
    "            sumaO = 0.0\n",
    "            sumaO0 = 0.0\n",
    "            for i in n:\n",
    "                clase_real = self.val_clase[i[len(i)-1]]#Se guarda la clase real de esa observación yi    \n",
    "                #Se obtienen los atributos (en este caso son 4: ancho y alto del sepalo, así como del petalo)\n",
    "                atributos_x = datos[:self.n_pesos-1]\n",
    "                #Valida esta parte y(i)(Ø(t-1)Tx(i)+Ø(t-1)0)      \n",
    "                hip = self.val_clase[i[len(i)-1]] * ((np.dot(np.array(self.pesos),np.array(atributos_x).transpose())) + self.teta_0)\n",
    "                val = 0.0\n",
    "                if(hip < 1):\n",
    "                    val = -1\n",
    "                else:\n",
    "                    val = 0.0\n",
    "                    \n",
    "                hip_O = val * ((self.val_clase[i[len(i)-1]] * np.array(atributos_x)) + (eta * Ot_1))\n",
    "                hip_O0 = val * self.val_clase[i[len(i)-1]] \n",
    "                \n",
    "                sumaO = sumaO + hip_O\n",
    "                sumaO0 = sumaO0 + hip_O0\n",
    "         \n",
    "            Ot = Ot_1 - (n*suma0)\n",
    "            \n",
    "        if(J()<E):  \n",
    "            break \n",
    "            \n",
    "            #self.ajusta_pesos(clase_real,i)\n",
    "                    \n",
    "        #valores = np.c_[ grad_pesos, tets ]\n",
    "        return sumaO, sumaO0\n",
    "\n",
    "    def verify(self, data):\n",
    "        count = 0\n",
    "        for datum in data:\n",
    "            clase_real = self.val_clase[datum[len(datum)-1]]\n",
    "            prediccion = self.predice(datum)\n",
    "            if clase_real != prediccion:\n",
    "                count = count + 1\n",
    "        return (1-count/len(data))*100\n",
    "    \n",
    "\n",
    "def cross_validation(data,k):\n",
    "    folds = np.array_split(data, k)\n",
    "    \n",
    "    for i in range(k):\n",
    "        train = folds.copy() #Guarda una copia de las divisiones para las iteraciones\n",
    "        test = folds[i]\n",
    "        del train[i] # Remueve la división a no tomar en cuenta (Sin Si)\n",
    "        #train = pd.concat(train, sort=False)\n",
    "        llamar_funcion_d_g()\n",
    "    \n",
    "\n",
    "def read_csv(file):\n",
    "    with open(file,'r') as f:\n",
    "        reader = csv.reader(f)\n",
    "        info = []\n",
    "        for row in reader:\n",
    "             info.append(row)\n",
    "\n",
    "        for datum in info:\n",
    "            for i in range(len(info[0])-1):\n",
    "                datum[i] = float(datum[i])\n",
    "    return info\n",
    "\n",
    "\n",
    "def main():\n",
    "    #Cargando datos\n",
    "    data = read_csv('iris.csv')\n",
    "    data_iris_setosa = data[0:50]\n",
    "    data_iris_no_setosa = data[50:150]\n",
    "\n",
    "    data_with_two_species = data_iris_setosa + data_iris_no_setosa\n",
    "    clases = ['setosa', 'no_setosa']\n",
    "    \n",
    "    #Datos de entrenamiento\n",
    "    datos_entrenamiento = data_with_two_species[0:80]\n",
    "    \n",
    "    #Datos de verificación\n",
    "    data_validacion = data_with_two_species[:-20]\n",
    "    \n",
    "    X = datos_entrenamiento[:,0:4].astype(float)\n",
    "    Y = datos_entrenamiento[:,4]\n",
    "    print(X)\n",
    "    print(Y)"
   ]
  },
  {
   "cell_type": "code",
   "execution_count": 5,
   "metadata": {},
   "outputs": [
    {
     "ename": "TypeError",
     "evalue": "list indices must be integers or slices, not tuple",
     "output_type": "error",
     "traceback": [
      "\u001b[0;31m---------------------------------------------------------------------------\u001b[0m",
      "\u001b[0;31mTypeError\u001b[0m                                 Traceback (most recent call last)",
      "\u001b[0;32m<ipython-input-5-263240bbee7e>\u001b[0m in \u001b[0;36m<module>\u001b[0;34m\u001b[0m\n\u001b[0;32m----> 1\u001b[0;31m \u001b[0mmain\u001b[0m\u001b[0;34m(\u001b[0m\u001b[0;34m)\u001b[0m\u001b[0;34m\u001b[0m\u001b[0;34m\u001b[0m\u001b[0m\n\u001b[0m",
      "\u001b[0;32m<ipython-input-4-c8aad206265d>\u001b[0m in \u001b[0;36mmain\u001b[0;34m()\u001b[0m\n\u001b[1;32m     27\u001b[0m     \u001b[0mdata_validacion\u001b[0m \u001b[0;34m=\u001b[0m \u001b[0mdata_with_two_species\u001b[0m\u001b[0;34m[\u001b[0m\u001b[0;34m:\u001b[0m\u001b[0;34m-\u001b[0m\u001b[0;36m20\u001b[0m\u001b[0;34m]\u001b[0m\u001b[0;34m\u001b[0m\u001b[0;34m\u001b[0m\u001b[0m\n\u001b[1;32m     28\u001b[0m \u001b[0;34m\u001b[0m\u001b[0m\n\u001b[0;32m---> 29\u001b[0;31m     \u001b[0mX\u001b[0m \u001b[0;34m=\u001b[0m \u001b[0mdatos_entrenamiento\u001b[0m\u001b[0;34m[\u001b[0m\u001b[0;34m:\u001b[0m\u001b[0;34m,\u001b[0m\u001b[0;36m0\u001b[0m\u001b[0;34m:\u001b[0m\u001b[0;36m4\u001b[0m\u001b[0;34m]\u001b[0m\u001b[0;34m.\u001b[0m\u001b[0mastype\u001b[0m\u001b[0;34m(\u001b[0m\u001b[0mfloat\u001b[0m\u001b[0;34m)\u001b[0m\u001b[0;34m\u001b[0m\u001b[0;34m\u001b[0m\u001b[0m\n\u001b[0m\u001b[1;32m     30\u001b[0m     \u001b[0mY\u001b[0m \u001b[0;34m=\u001b[0m \u001b[0mdatos_entrenamiento\u001b[0m\u001b[0;34m[\u001b[0m\u001b[0;34m:\u001b[0m\u001b[0;34m,\u001b[0m\u001b[0;36m4\u001b[0m\u001b[0;34m]\u001b[0m\u001b[0;34m\u001b[0m\u001b[0;34m\u001b[0m\u001b[0m\n\u001b[1;32m     31\u001b[0m     \u001b[0mprint\u001b[0m\u001b[0;34m(\u001b[0m\u001b[0mX\u001b[0m\u001b[0;34m)\u001b[0m\u001b[0;34m\u001b[0m\u001b[0;34m\u001b[0m\u001b[0m\n",
      "\u001b[0;31mTypeError\u001b[0m: list indices must be integers or slices, not tuple"
     ]
    }
   ],
   "source": [
    "main()"
   ]
  },
  {
   "cell_type": "code",
   "execution_count": null,
   "metadata": {},
   "outputs": [],
   "source": []
  }
 ],
 "metadata": {
  "kernelspec": {
   "display_name": "Python 3",
   "language": "python",
   "name": "python3"
  },
  "language_info": {
   "codemirror_mode": {
    "name": "ipython",
    "version": 3
   },
   "file_extension": ".py",
   "mimetype": "text/x-python",
   "name": "python",
   "nbconvert_exporter": "python",
   "pygments_lexer": "ipython3",
   "version": "3.8.2"
  }
 },
 "nbformat": 4,
 "nbformat_minor": 4
}
